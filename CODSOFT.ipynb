{
 "cells": [
  {
   "cell_type": "code",
   "execution_count": 5,
   "id": "95f11210-0f88-443d-af8d-aac8fe4ac202",
   "metadata": {},
   "outputs": [],
   "source": [
    "from tkinter import*\n",
    "from tkinter import messagebox\n",
    "w= Tk()\n",
    "#w.resizeable(0,0)\n",
    "w.title(\"TO DO LIST\")\n",
    "##########################################\n",
    "h1=Label(w,text=\"To Do List\",font=('arial',15,'bold'),borderwidth=5,relief=\"raise\",bg=\"aqua\")\n",
    "h1.grid(row=1,column=3,columnspan=3)\n",
    "###################################################################################\n",
    "h2=Listbox(w, height = 10, bg = \"#2E2E2E\",activestyle = 'dotbox', font = \"arial\",fg = \"#FFFFFF\",selectbackground='#ADD8E6', selectforeground='#000000')\n",
    "h2.grid(row=2,column=1,columnspan=7)  \n",
    "#######################################################################\n",
    "h3=Entry(w,font=('arial',15,'bold'),relief=\"solid\",bg=\"khaki1\")\n",
    "h3.grid(row =3,column=1,columnspan=7 )\n",
    "##########################################################\n",
    "h4=Button(w,text=\"Add Task\",font=('arial',11,'bold'),bg=\"cyan\",borderwidth=5,command=lambda: Addtask())\n",
    "h4.grid(row =4,column=2,columnspan=6 )\n",
    "###########################################################\n",
    "h5=Button(w,text=\"Upadate Task \",font=('arial',11,'bold'),bg=\"yellow\",borderwidth=5, command=lambda: Updatetask())\n",
    "h5.grid(row =5,column=1,columnspan=4 )\n",
    "############################################################\n",
    "h6=Button(w,text=\"Delete Task \",font=('arial',11,'bold'),bg=\"Red\",borderwidth=5,cursor=\"hand2\", command=lambda:  Deletetask())\n",
    "h6.grid(row =6,column=3,columnspan=4 )\n",
    "\n",
    "\n",
    "##############################################################################################\n",
    "def Addtask():\n",
    "    task=h3.get()\n",
    "    if task != \"\":\n",
    "            h2.insert(END, task)\n",
    "            h3.delete(0,END)\n",
    "    else:\n",
    "        messagebox.showwarning(\"Warning\", \"You must enter a task.\")\n",
    "def Updatetask():\n",
    "    try:\n",
    "        task1 = h2.curselection()[0]\n",
    "        task = h2.get(task1)\n",
    "        task3 = h3.get()\n",
    "       \n",
    "        h2.delete(task1)\n",
    "        h2.insert(task1, task3)\n",
    "        h3.delete(0, END)\n",
    "       \n",
    "    except:\n",
    "           messagebox.showwarning(\"Warning\", \"You must select a task.\")\n",
    "def Deletetask():\n",
    "     try:\n",
    "        selected_task_index = h2.curselection()[0]\n",
    "        h2.delete(selected_task_index)\n",
    "     except:\n",
    "         messagebox.showwarning(\"Warning\", \"You must select a task.\")\n",
    "\n",
    "\n",
    "w.mainloop()\n",
    "      "
   ]
  },
  {
   "cell_type": "code",
   "execution_count": null,
   "id": "5641ebc7-7600-4d71-8f1c-75688664f10a",
   "metadata": {},
   "outputs": [],
   "source": []
  }
 ],
 "metadata": {
  "kernelspec": {
   "display_name": "Python 3 (ipykernel)",
   "language": "python",
   "name": "python3"
  },
  "language_info": {
   "codemirror_mode": {
    "name": "ipython",
    "version": 3
   },
   "file_extension": ".py",
   "mimetype": "text/x-python",
   "name": "python",
   "nbconvert_exporter": "python",
   "pygments_lexer": "ipython3",
   "version": "3.12.4"
  }
 },
 "nbformat": 4,
 "nbformat_minor": 5
}
